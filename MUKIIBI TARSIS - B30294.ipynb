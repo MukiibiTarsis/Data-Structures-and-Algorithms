{
 "cells": [
  {
   "cell_type": "markdown",
   "metadata": {},
   "source": [
    "# MUKIIBI TARSIS | B30294 | S24B38/004"
   ]
  },
  {
   "cell_type": "markdown",
   "metadata": {},
   "source": [
    "# Searching Algorithms\n",
    "## Linear Search\n",
    "- This is an algorithm that searches for a particular element within an array by comparing every element in the array with the required element until a particular element in the array."
   ]
  },
  {
   "cell_type": "code",
   "execution_count": null,
   "metadata": {},
   "outputs": [],
   "source": [
    "'''\n",
    "PSEUDOCODE FOR LINEAR SEARCH\n",
    "\n",
    "START\n",
    "\n",
    "INPUT list of vowels\n",
    "FOR every elemet in vowels:\n",
    "    IF element equals 'o':\n",
    "        OUTPUT ('This is the required item')\n",
    "    ELSE:\n",
    "        continue\n",
    "        \n",
    "STOP\n",
    "\n",
    "'''"
   ]
  },
  {
   "cell_type": "markdown",
   "metadata": {},
   "source": [
    "Flowchart for a linear search"
   ]
  },
  {
   "cell_type": "code",
   "execution_count": 4,
   "metadata": {},
   "outputs": [
    {
     "name": "stdout",
     "output_type": "stream",
     "text": [
      "This is the required element, o\n"
     ]
    }
   ],
   "source": [
    "# PYTHON IMPLEMENTATION OF LINEAR SEARCH\n",
    "\n",
    "vowels = ['a', 'e', 'i', 'o', 'u'] #create a list of vowels\n",
    "for i in vowels: # run a for loop to compare each element list \n",
    "    if i =='o': # condition to capture the required element 'o'\n",
    "        print(f'This is the required element, {i}') #output to confirm required element\n",
    "    else:\n",
    "        continue #to proceed with loop if required element is not acheived\n"
   ]
  },
  {
   "cell_type": "markdown",
   "metadata": {},
   "source": [
    "Time Complexity Analysis\n",
    "- Best-case: When the required element is in the first index hence best complexity is O(1)\n",
    "- Worst-case: When the required element is in the last index and hence the last index is dependent on the size of list hence the worst complexity is O(N) where N is the size of list\n",
    "- Average-case: When the required element lies between the first and last index where its position varies according to size of list and hence average case is O(N)"
   ]
  },
  {
   "cell_type": "markdown",
   "metadata": {},
   "source": [
    "Advantages of Linear Search\n",
    "- Can be used whether the list is sorted or not\n",
    "- Does not require additional memory\n",
    "- Well suited for small datasets\n",
    "\n",
    "Disadvantages of Linear Search\n",
    "- Not suitable for large arrays\n",
    "- Has a time complexity of O(N) which makes it slow for large datasets"
   ]
  },
  {
   "cell_type": "markdown",
   "metadata": {},
   "source": [
    "When to use Linear Search\n",
    "- When working on small datasets\n",
    "- When searching for dataset stored in contigous memory"
   ]
  },
  {
   "cell_type": "markdown",
   "metadata": {},
   "source": [
    "When not to use Linear Search\n",
    "- When working on large datasets"
   ]
  },
  {
   "cell_type": "markdown",
   "metadata": {},
   "source": [
    "## Binary Search\n",
    "- This is an algorithm that finds the middle element in the list and compares with two subgroups on either side of the middle element to see where the element lies. In the sub group where the element lies, a middle element is still got and the required element is again compared with proceeding subgroups and the process is repeated until the required element is acheived.\n",
    "- This algorithm however works when the elements in the list are ordered and sorted"
   ]
  },
  {
   "cell_type": "code",
   "execution_count": 10,
   "metadata": {},
   "outputs": [
    {
     "data": {
      "text/plain": [
       "'\\nPSEUDOCODE FOR BINARY SEARCH\\n(Required number is 2 in a list of numbers from 1 to 10)\\n\\nSTART\\n\\nif this == null\\n\\n  return lowest traversed value ≥ v\\n\\nelse if this key == search value\\n\\n  return this\\n\\nelse if this key < search value\\n\\n  search right\\n\\nelse search left\\n\\n'"
      ]
     },
     "execution_count": 10,
     "metadata": {},
     "output_type": "execute_result"
    }
   ],
   "source": [
    "'''\n",
    "PSEUDOCODE FOR BINARY SEARCH\n",
    "(Required number is 2 in a list of numbers from 1 to 10)\n",
    "\n",
    "START\n",
    "\n",
    "if this == null\n",
    "\n",
    "  return lowest traversed value ≥ v\n",
    "\n",
    "else if this key == search value\n",
    "\n",
    "  return this\n",
    "\n",
    "else if this key < search value\n",
    "\n",
    "  search right\n",
    "\n",
    "else search left\n",
    "\n",
    "'''"
   ]
  },
  {
   "cell_type": "markdown",
   "metadata": {},
   "source": [
    "Flowchart for Binary Search"
   ]
  },
  {
   "cell_type": "code",
   "execution_count": null,
   "metadata": {},
   "outputs": [],
   "source": [
    "# Python3 code to implement iterative Binary\n",
    "# Search.\n",
    "\n",
    "\n",
    "# It returns location of x in given array arr\n",
    "def binarySearch(arr, low, high, x):\n",
    "\n",
    "    while low <= high:\n",
    "\n",
    "        mid = low + (high - low) // 2\n",
    "\n",
    "        # Check if x is present at mid\n",
    "        if arr[mid] == x:\n",
    "            return mid\n",
    "\n",
    "        # If x is greater, ignore left half\n",
    "        elif arr[mid] < x:\n",
    "            low = mid + 1\n",
    "\n",
    "        # If x is smaller, ignore right half\n",
    "        else:\n",
    "            high = mid - 1\n",
    "\n",
    "    # If we reach here, then the element\n",
    "    # was not present\n",
    "    return -1\n",
    "\n",
    "\n",
    "# Driver Code\n",
    "if __name__ == '__main__':\n",
    "    arr = [2, 3, 4, 10, 40]\n",
    "    x = 10\n",
    "\n",
    "    # Function call\n",
    "    result = binarySearch(arr, 0, len(arr)-1, x)\n",
    "    if result != -1:\n",
    "        print(\"Element is present at index\", result)\n",
    "    else:\n",
    "        print(\"Element is not present in array\")\n"
   ]
  },
  {
   "cell_type": "markdown",
   "metadata": {},
   "source": [
    "Time Complexity Analysis\n",
    "- Best-Case: O(1)\n",
    "- Worst-Case: O(logN)\n",
    "- Average-Case: O(logN)"
   ]
  },
  {
   "cell_type": "markdown",
   "metadata": {},
   "source": [
    "Advantages of Binary Search Algorithm\n",
    "- Faster than linear search\n",
    "- Well suited for large datasets\n",
    "- More efficient than other searching algorithms with similar time complexities eg exponential search and interpolation search\n",
    "\n",
    "Disadvantages of Binary Search Algorithm\n",
    "- Elements in array should be sorted\n",
    "- Requires storage of data structure in contiguous memory locations"
   ]
  },
  {
   "cell_type": "markdown",
   "metadata": {},
   "source": [
    "When to use it\n",
    "- When working with large datasets\n",
    "- When the list or array is sorted\n",
    "\n",
    "When not to use it\n",
    "- When elements in list are not sorted "
   ]
  },
  {
   "cell_type": "markdown",
   "metadata": {},
   "source": [
    "# Sorting Algorithms\n",
    "## Bubble Sort\n",
    "- This is an algorithm that selects the starting element within the list and compares it with all the elements in the list while rearranging it appropriately until it is in the right postion. Another element is selected and this procedure is repeated until all the numbers are in their rightful order."
   ]
  },
  {
   "cell_type": "code",
   "execution_count": null,
   "metadata": {},
   "outputs": [],
   "source": [
    "'''\n",
    "\n",
    "do\n",
    "\n",
    "  swapped = false\n",
    "\n",
    "  for i = 1 to indexOfLastUnsortedElement-1\n",
    "\n",
    "    if leftElement > rightElement\n",
    "\n",
    "      swap(leftElement, rightElement)\n",
    "\n",
    "      swapped = true; ++swapCounter\n",
    "\n",
    "while swapped\n",
    "\n",
    "\n",
    "'''"
   ]
  },
  {
   "cell_type": "markdown",
   "metadata": {},
   "source": [
    "Flowchart for Bubble Sort"
   ]
  },
  {
   "cell_type": "code",
   "execution_count": 9,
   "metadata": {},
   "outputs": [
    {
     "name": "stdout",
     "output_type": "stream",
     "text": [
      "Sorted array:\n",
      "11 12 22 25 34 64 90 "
     ]
    }
   ],
   "source": [
    "# bubble sort python\n",
    "# Optimized Python program for implementation of Bubble Sort\n",
    "def bubbleSort(arr):\n",
    "    n = len(arr)\n",
    "    \n",
    "    # Traverse through all array elements\n",
    "    for i in range(n):\n",
    "        swapped = False\n",
    "\n",
    "        # Last i elements are already in place\n",
    "        for j in range(0, n-i-1):\n",
    "\n",
    "            # Traverse the array from 0 to n-i-1\n",
    "            # Swap if the element found is greater\n",
    "            # than the next element\n",
    "            if arr[j] > arr[j+1]:\n",
    "                arr[j], arr[j+1] = arr[j+1], arr[j]\n",
    "                swapped = True\n",
    "        if (swapped == False):\n",
    "            break\n",
    "\n",
    "# Driver code to test above\n",
    "if __name__ == \"__main__\":\n",
    "    arr = [64, 34, 25, 12, 22, 11, 90]\n",
    "\n",
    "    bubbleSort(arr)\n",
    "\n",
    "    print(\"Sorted array:\")\n",
    "    for i in range(len(arr)):\n",
    "        print(\"%d\" % arr[i], end=\" \")\n",
    "\n"
   ]
  },
  {
   "cell_type": "markdown",
   "metadata": {},
   "source": [
    "Time Complexity Analysis for an Bubble Sort Algorithm\n",
    "- Best Case:O(N)\n",
    "- Worst Case:O(N^2)\n",
    "- Average Case:O(N^2)"
   ]
  },
  {
   "cell_type": "markdown",
   "metadata": {},
   "source": [
    "Advantages of using an Bubble Sort\n",
    "- Bubble sort is easy to understand and implement.\n",
    "- It does not require any additional memory space.\n",
    "\n",
    "Disadvantages of using an Bubble Sort\n",
    "- Bubble sort has a time complexity of O(n2) which makes it very slow for large data sets.\n",
    "- Bubble sort has almost no or limited real world applications. It is mostly used in academics to teach different ways of sorting."
   ]
  },
  {
   "cell_type": "markdown",
   "metadata": {},
   "source": [
    "## Insertion Sort\n",
    "- This algorithm picks the element in the first index as a starting point which it uses to compare with the remaining elements in the array until it is in a position that is correct in the desired order. The following element in the array goes through a similar process and it is further compared with already sorted sub-groups within the array and inserted in its appropraite position. This process is repead for all elements in the array until everythin is sorted."
   ]
  },
  {
   "cell_type": "code",
   "execution_count": null,
   "metadata": {},
   "outputs": [],
   "source": [
    "'''\n",
    "\n",
    "Pseudocode for Insertion Sort\n",
    "\n",
    "\n",
    "mark first element as sorted\n",
    "\n",
    "for each unsorted element X\n",
    "\n",
    "  'extract' the element X\n",
    "\n",
    "  for j = lastSortedIndex down to 0\n",
    "\n",
    "    if current element j > X\n",
    "\n",
    "      move sorted element to the right by 1\n",
    "\n",
    "    break loop and insert X here\n",
    "\n",
    "\n",
    "'''"
   ]
  },
  {
   "cell_type": "markdown",
   "metadata": {},
   "source": [
    "FlowChart for Insertion Sort"
   ]
  },
  {
   "cell_type": "code",
   "execution_count": 8,
   "metadata": {},
   "outputs": [
    {
     "name": "stdout",
     "output_type": "stream",
     "text": [
      "5 6 11 12 13 \n"
     ]
    }
   ],
   "source": [
    "#code for insertion sort\n",
    "# Python program for implementation of Insertion Sort\n",
    "\n",
    "# Function to sort array using insertion sort\n",
    "def insertionSort(arr):\n",
    "    for i in range(1, len(arr)):\n",
    "        key = arr[i]\n",
    "        j = i - 1\n",
    "\n",
    "        # Move elements of arr[0..i-1], that are\n",
    "        # greater than key, to one position ahead\n",
    "        # of their current position\n",
    "        while j >= 0 and key < arr[j]:\n",
    "            arr[j + 1] = arr[j]\n",
    "            j -= 1\n",
    "        arr[j + 1] = key\n",
    "\n",
    "# A utility function to print array of size n\n",
    "def printArray(arr):\n",
    "    for i in range(len(arr)):\n",
    "        print(arr[i], end=\" \")\n",
    "    print()\n",
    "\n",
    "# Driver method\n",
    "if __name__ == \"__main__\":\n",
    "    arr = [12, 11, 13, 5, 6]\n",
    "    insertionSort(arr)\n",
    "    printArray(arr)\n",
    "\n",
    "    # This code is contributed by Hritik Shah.\n"
   ]
  },
  {
   "cell_type": "markdown",
   "metadata": {},
   "source": []
  },
  {
   "cell_type": "markdown",
   "metadata": {},
   "source": [
    "Time Complexity Analysis for an Insertion Sort Algorithm\n",
    "- Best Case:O(N)\n",
    "- Worst Case:O(N^2)\n",
    "- Average Case:O(N^2)"
   ]
  },
  {
   "cell_type": "markdown",
   "metadata": {},
   "source": [
    "Advantages of using an Insertion Sort\n",
    "- Simple and easy to implement.\n",
    "- Stable sorting algorithm.\n",
    "- Efficient for small lists and nearly sorted lists.\n",
    "- Space-efficient as it is an in-place algorithm.\n",
    "\n",
    "Disadvantages of using an Insertion Sort\n",
    "- Inefficient for large lists.\n",
    "- Not as efficient as other sorting algorithms (e.g., merge sort, quick sort) for most cases."
   ]
  },
  {
   "cell_type": "markdown",
   "metadata": {},
   "source": [
    "When to use it \n",
    "-  The list is small or nearly sorted.\n",
    "- Simplicity and stability are important.\n",
    "- Used as a subroutine in Bucket Sort\n",
    "- Can be useful when array is already almost sorted (very few inversions)\n",
    "\n",
    "\n",
    "When not to use it\n",
    "-  "
   ]
  },
  {
   "cell_type": "markdown",
   "metadata": {},
   "source": [
    "## Selection Sort\n",
    "- This is an algorithm that sets the minimum value at the first index and keeps iterating other values based on the minmum value and this process is repeated for all other elements in the array until the entire array is sorted"
   ]
  },
  {
   "cell_type": "code",
   "execution_count": null,
   "metadata": {},
   "outputs": [],
   "source": [
    "'''\n",
    "Pseudocode for Selection Sort\n",
    "\n",
    "\n",
    "repeat (numOfElements - 1) times\n",
    "\n",
    "  set the first unsorted element as the minimum\n",
    "\n",
    "  for each of the unsorted elements\n",
    "\n",
    "    if element < currentMinimum\n",
    "\n",
    "      set element as new minimum\n",
    "\n",
    "  swap minimum with first unsorted position\n",
    "\n",
    "'''"
   ]
  },
  {
   "cell_type": "markdown",
   "metadata": {},
   "source": [
    "Flow chart for Selection Sort"
   ]
  },
  {
   "cell_type": "code",
   "execution_count": 6,
   "metadata": {},
   "outputs": [
    {
     "name": "stdout",
     "output_type": "stream",
     "text": [
      "Original array: 64 25 12 22 11 \n",
      "Sorted array: 11 12 22 25 64 \n"
     ]
    }
   ],
   "source": [
    "# python selection sort code\n",
    "# Python program for implementation of Selection\n",
    "# Sort\n",
    "\n",
    "def selection_sort(arr):\n",
    "    n = len(arr)\n",
    "    for i in range(n - 1):\n",
    "      \n",
    "        # Assume the current position holds\n",
    "        # the minimum element\n",
    "        min_idx = i\n",
    "        \n",
    "        # Iterate through the unsorted portion\n",
    "        # to find the actual minimum\n",
    "        for j in range(i + 1, n):\n",
    "            if arr[j] < arr[min_idx]:\n",
    "              \n",
    "                # Update min_idx if a smaller element is found\n",
    "                min_idx = j\n",
    "        \n",
    "        # Move minimum element to its\n",
    "        # correct position\n",
    "        arr[i], arr[min_idx] = arr[min_idx], arr[i]\n",
    "\n",
    "def print_array(arr):\n",
    "    for val in arr:\n",
    "        print(val, end=\" \")\n",
    "    print()\n",
    "\n",
    "if __name__ == \"__main__\":\n",
    "    arr = [64, 25, 12, 22, 11]\n",
    "    \n",
    "    print(\"Original array: \", end=\"\")\n",
    "    print_array(arr)\n",
    "    \n",
    "    selection_sort(arr)\n",
    "    \n",
    "    print(\"Sorted array: \", end=\"\")\n",
    "    print_array(arr)\n"
   ]
  },
  {
   "cell_type": "markdown",
   "metadata": {},
   "source": [
    "Time Complexity Analysis for Selection Sort\n",
    "-  Best-case:\n",
    "- Worst-Case:\n",
    "- Average-case:"
   ]
  },
  {
   "cell_type": "markdown",
   "metadata": {},
   "source": [
    "Advantages of Selection sort algorithm\n",
    "- Easy to understand and implement, making it ideal for teaching basic sorting concepts.\n",
    "- Requires only a constant O(1) extra memory space.\n",
    "\n",
    "Disadvantages of Selection sort algorithm\n",
    "- Selection sort has a time complexity of O(n^2) makes it slower compared to algorithms like Quick Sort or Merge Sort.\n",
    "- Does not maintain the relative order of equal elements which means it is not stable."
   ]
  },
  {
   "cell_type": "code",
   "execution_count": null,
   "metadata": {},
   "outputs": [],
   "source": []
  },
  {
   "cell_type": "markdown",
   "metadata": {},
   "source": [
    "When to use it\n",
    "- Suitable for small lists where the overhead of more complex algorithms isn’t justified and memory writing is costly as it requires less memory writes compared to other standard sorting algorithms.\n",
    "- Perfect for teaching fundamental sorting mechanisms and algorithm design.\n",
    "\n",
    "When not to use it\n",
    "- \n",
    "- "
   ]
  },
  {
   "cell_type": "markdown",
   "metadata": {},
   "source": [
    "## Quick Sort\n",
    "- Works on a divide and conquer principle that selects an element from the array and makes it a pivot  and this selection is random.\n",
    "- Elements on the side of the pivot are rearranged so that those less than the pivot element are on one side and those greaeter than the pivot element on the other side.\n",
    "- There is a recursive call of the above function on all the subgroups on either side of the group\n"
   ]
  },
  {
   "cell_type": "code",
   "execution_count": null,
   "metadata": {},
   "outputs": [],
   "source": [
    "'''\n",
    "Pseudocode for Quick Sort\n",
    "\n",
    "for each (unsorted) partition\n",
    "\n",
    "set first element as pivot\n",
    "\n",
    "  storeIndex = pivotIndex+1\n",
    "\n",
    "  for i = pivotIndex+1 to rightmostIndex\n",
    "\n",
    "    if ((a[i] < a[pivot]) or (equal but 50% lucky))\n",
    "\n",
    "      swap(i, storeIndex); ++storeIndex\n",
    "\n",
    "  swap(pivot, storeIndex-1)\n",
    "\n",
    "\n",
    "'''"
   ]
  },
  {
   "cell_type": "markdown",
   "metadata": {},
   "source": [
    "Flowchart for Quick Sort "
   ]
  },
  {
   "cell_type": "code",
   "execution_count": 5,
   "metadata": {},
   "outputs": [
    {
     "name": "stdout",
     "output_type": "stream",
     "text": [
      "1 5 7 8 9 10 "
     ]
    }
   ],
   "source": [
    "#python implementation for Quick Sort\n",
    "# Partition function\n",
    "def partition(arr, low, high):\n",
    "    \n",
    "    # Choose the pivot\n",
    "    pivot = arr[high]\n",
    "    \n",
    "    # Index of smaller element and indicates \n",
    "    # the right position of pivot found so far\n",
    "    i = low - 1\n",
    "    \n",
    "    # Traverse arr[low..high] and move all smaller\n",
    "    # elements to the left side. Elements from low to \n",
    "    # i are smaller after every iteration\n",
    "    for j in range(low, high):\n",
    "        if arr[j] < pivot:\n",
    "            i += 1\n",
    "            swap(arr, i, j)\n",
    "    \n",
    "    # Move pivot after smaller elements and\n",
    "    # return its position\n",
    "    swap(arr, i + 1, high)\n",
    "    return i + 1\n",
    "\n",
    "# Swap function\n",
    "def swap(arr, i, j):\n",
    "    arr[i], arr[j] = arr[j], arr[i]\n",
    "\n",
    "# The QuickSort function implementation\n",
    "def quickSort(arr, low, high):\n",
    "    if low < high:\n",
    "        \n",
    "        # pi is the partition return index of pivot\n",
    "        pi = partition(arr, low, high)\n",
    "        \n",
    "        # Recursion calls for smaller elements\n",
    "        # and greater or equals elements\n",
    "        quickSort(arr, low, pi - 1)\n",
    "        quickSort(arr, pi + 1, high)\n",
    "\n",
    "# Main driver code\n",
    "if __name__ == \"__main__\":\n",
    "    arr = [10, 7, 8, 9, 1, 5]\n",
    "    n = len(arr)\n",
    "\n",
    "    quickSort(arr, 0, n - 1)\n",
    "    \n",
    "    for val in arr:\n",
    "        print(val, end=\" \") \n"
   ]
  },
  {
   "cell_type": "markdown",
   "metadata": {},
   "source": [
    "Time Complexity for Quick Sort\n",
    "- Best-case\n",
    "- Worst-case\n",
    "- Average-case"
   ]
  },
  {
   "cell_type": "markdown",
   "metadata": {},
   "source": [
    "Advantages of Quick Sort\n",
    "- It is a divide-and-conquer algorithm that makes it easier to solve problems.\n",
    "- It is efficient on large data sets.\n",
    "- It has a low overhead, as it only requires a small amount of memory to function.\n",
    "- It is Cache Friendly as we work on the same array to sort and do not copy data to any auxiliary array.\n",
    "- Fastest general purpose algorithm for large data when stability is not required.\n",
    "\n",
    "Disadvantages of Quick Sort\n",
    "- It has a worst-case time complexity of O(n2), which occurs when the pivot is chosen poorly.\n",
    "- It is not a good choice for small data sets. "
   ]
  },
  {
   "cell_type": "markdown",
   "metadata": {},
   "source": [
    "When to use it\n",
    "- Efficient for sorting large datasets with O(n log n) average-case time complexity.\n",
    "- Used in partitioning problems like finding the kth smallest element or dividing arrays by pivot.\n",
    "- Integral to randomized algorithms, offering better performance than deterministic approaches.\n",
    "- Applied in cryptography for generating random permutations and unpredictable encryption keys.\n",
    "\n",
    "When not to use it\n",
    "- \n",
    "- "
   ]
  },
  {
   "cell_type": "markdown",
   "metadata": {},
   "source": [
    "## Merge Sort\n",
    "- Merge sort is a sorting algorithm that follows the divide-and-conquer approach. It works by recursively dividing the input array into smaller subarrays and sorting those subarrays then merging them back together to obtain the sorted array."
   ]
  },
  {
   "cell_type": "code",
   "execution_count": null,
   "metadata": {},
   "outputs": [],
   "source": [
    "'''\n",
    "Pseudocode for Merge Sort\n",
    "\n",
    "split each element into partitions of size 1\n",
    "\n",
    "recursively merge adjacent partitions\n",
    "\n",
    "  for i = leftPartIdx to rightPartIdx\n",
    "\n",
    "    if leftPartHeadValue <= rightPartHeadValue\n",
    "\n",
    "      copy leftPartHeadValue\n",
    "\n",
    "    else: copy rightPartHeadValue; Increase InvIdx\n",
    "\n",
    "copy elements back to original array\n",
    "\n",
    "'''"
   ]
  },
  {
   "cell_type": "markdown",
   "metadata": {},
   "source": [
    "Flow chart for Merge Sort"
   ]
  },
  {
   "cell_type": "code",
   "execution_count": 4,
   "metadata": {},
   "outputs": [
    {
     "name": "stdout",
     "output_type": "stream",
     "text": [
      "Given array is\n",
      "12 11 13 5 6 7 \n",
      "\n",
      "Sorted array is\n",
      "5 6 7 11 12 13 \n"
     ]
    }
   ],
   "source": [
    "# python Merge sort code\n",
    "\n",
    "def merge(arr, left, mid, right):\n",
    "    n1 = mid - left + 1\n",
    "    n2 = right - mid\n",
    "\n",
    "    # Create temp arrays\n",
    "    L = [0] * n1\n",
    "    R = [0] * n2\n",
    "\n",
    "    # Copy data to temp arrays L[] and R[]\n",
    "    for i in range(n1):\n",
    "        L[i] = arr[left + i]\n",
    "    for j in range(n2):\n",
    "        R[j] = arr[mid + 1 + j]\n",
    "\n",
    "    i = 0  # Initial index of first subarray\n",
    "    j = 0  # Initial index of second subarray\n",
    "    k = left  # Initial index of merged subarray\n",
    "\n",
    "    # Merge the temp arrays back\n",
    "    # into arr[left..right]\n",
    "    while i < n1 and j < n2:\n",
    "        if L[i] <= R[j]:\n",
    "            arr[k] = L[i]\n",
    "            i += 1\n",
    "        else:\n",
    "            arr[k] = R[j]\n",
    "            j += 1\n",
    "        k += 1\n",
    "\n",
    "    # Copy the remaining elements of L[],\n",
    "    # if there are any\n",
    "    while i < n1:\n",
    "        arr[k] = L[i]\n",
    "        i += 1\n",
    "        k += 1\n",
    "\n",
    "    # Copy the remaining elements of R[], \n",
    "    # if there are any\n",
    "    while j < n2:\n",
    "        arr[k] = R[j]\n",
    "        j += 1\n",
    "        k += 1\n",
    "\n",
    "def merge_sort(arr, left, right):\n",
    "    if left < right:\n",
    "        mid = (left + right) // 2\n",
    "\n",
    "        merge_sort(arr, left, mid)\n",
    "        merge_sort(arr, mid + 1, right)\n",
    "        merge(arr, left, mid, right)\n",
    "\n",
    "def print_list(arr):\n",
    "    for i in arr:\n",
    "        print(i, end=\" \")\n",
    "    print()\n",
    "\n",
    "# Driver code\n",
    "if __name__ == \"__main__\":\n",
    "    arr = [12, 11, 13, 5, 6, 7]\n",
    "    print(\"Given array is\")\n",
    "    print_list(arr)\n",
    "\n",
    "    merge_sort(arr, 0, len(arr) - 1)\n",
    "\n",
    "    print(\"\\nSorted array is\")\n",
    "    print_list(arr)\n"
   ]
  },
  {
   "cell_type": "markdown",
   "metadata": {},
   "source": [
    "Time Complexity for Merge Sort\n",
    "- Best-case: O(n log n), When the array is already sorted or nearly sorted.\n",
    "- Worst-case: O(n log n), When the array is sorted in reverse order\n",
    "- Average-cas: O(n log n), When the array is randomly ordered."
   ]
  },
  {
   "cell_type": "markdown",
   "metadata": {},
   "source": [
    "Advantages of Merge Sort\n",
    "- Stability : Merge sort is a stable sorting algorithm, which means it maintains the relative order of equal elements in the input array\n",
    "- Simple to implement: The divide-and-conquer approach is straightforward.\n",
    "- Guaranteed worst-case performance: Merge sort has a worst-case time complexity of O(N logN) , which means it performs well even on large datasets.\n",
    "\n",
    "Disadvantages of Merge Sort\n",
    "- Space complexity: Merge sort requires additional memory to store the merged sub-arrays during the sorting process.\n",
    "- Merge Sort is Slower than QuickSort in general as QuickSort is more cache friendly because it works in-place."
   ]
  },
  {
   "cell_type": "markdown",
   "metadata": {},
   "source": [
    "When to use it\n",
    "- It is a preferred algorithm for sorting Linked lists.\n",
    "- Sorting large datasets\n",
    "- External sorting (when the dataset is too large to fit in memory)\n",
    "\n",
    "When not to use it\n",
    "- \n",
    "- "
   ]
  }
 ],
 "metadata": {
  "kernelspec": {
   "display_name": "Python 3",
   "language": "python",
   "name": "python3"
  },
  "language_info": {
   "codemirror_mode": {
    "name": "ipython",
    "version": 3
   },
   "file_extension": ".py",
   "mimetype": "text/x-python",
   "name": "python",
   "nbconvert_exporter": "python",
   "pygments_lexer": "ipython3",
   "version": "3.13.2"
  }
 },
 "nbformat": 4,
 "nbformat_minor": 2
}
