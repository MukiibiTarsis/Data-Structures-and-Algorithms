{
 "cells": [
  {
   "cell_type": "code",
   "execution_count": 3,
   "metadata": {},
   "outputs": [
    {
     "name": "stdout",
     "output_type": "stream",
     "text": [
      "[1, 2, 3, 4, 5]\n",
      "[1, 2, 3, 5, 4, 5]\n",
      "[1, 2, 3, 4, 5]\n"
     ]
    }
   ],
   "source": [
    "array = [1,2,3,4,5]\n",
    "print(array)\n",
    "array.insert(3,5)\n",
    "print(array)\n",
    "array.remove(5)\n",
    "print(array)\n"
   ]
  },
  {
   "cell_type": "code",
   "execution_count": 1,
   "metadata": {},
   "outputs": [
    {
     "name": "stdout",
     "output_type": "stream",
     "text": [
      "6\n",
      "9\n"
     ]
    }
   ],
   "source": [
    "array1=[\n",
    "    [1,2,3],\n",
    "    [4,5,6],\n",
    "    [7,8,9]\n",
    "]\n",
    "\n",
    "print(array1[1][2])\n",
    "print(array1[-1][-1])"
   ]
  },
  {
   "cell_type": "markdown",
   "metadata": {},
   "source": [
    "Linked List\n",
    "node- a structure that contains the following:\n",
    "data(value stored in the node)\n",
    "pointer(reference to the next node)\n",
    "\n",
    "head- the first node in a linked list\n",
    "tail- the last node in a linked list"
   ]
  },
  {
   "cell_type": "code",
   "execution_count": 18,
   "metadata": {},
   "outputs": [
    {
     "name": "stdout",
     "output_type": "stream",
     "text": [
      "linked_list\n",
      "1 -> 2 -> 3 -> none\n",
      "1 -> 1.5 -> 2 -> 3 -> none\n",
      "1 -> 2 -> 3 -> none\n"
     ]
    }
   ],
   "source": [
    "linked_list= {\n",
    "    0: (1,1),\n",
    "    1: (2,2),\n",
    "    2: (3,-1)\n",
    "}\n",
    "\n",
    "\n",
    "def display_linked_list():\n",
    "    index=0\n",
    "    while index != -1:\n",
    "        value, next_index = linked_list[index]\n",
    "        print(value, end=' -> ')\n",
    "        index=next_index\n",
    "    print('none')\n",
    "\n",
    "print('linked_list')\n",
    "display_linked_list()\n",
    "\n",
    "linked_list[1]=(1.5,2)\n",
    "linked_list[2]=(2,3)\n",
    "linked_list[3]=(3,-1)\n",
    "display_linked_list()\n",
    "#remove data from a linked_list\n",
    "\n",
    "del linked_list[1]\n",
    "linked_list[0] = (1,2)\n",
    "display_linked_list()"
   ]
  },
  {
   "cell_type": "code",
   "execution_count": 24,
   "metadata": {},
   "outputs": [
    {
     "name": "stdout",
     "output_type": "stream",
     "text": [
      "stack [1, 2, 3]\n",
      "popped element 3\n",
      "top most element 2\n"
     ]
    }
   ],
   "source": [
    "stack = []\n",
    "stack.append(1)\n",
    "stack.append(2)\n",
    "stack.append(3)\n",
    "print('stack',stack)\n",
    "\n",
    "\n",
    "#remove elements from a stack\n",
    "if stack:\n",
    "    popped=stack.pop()\n",
    "    print('popped element', popped)\n",
    "\n",
    "if stack:\n",
    "    print('top most element', stack[-1])"
   ]
  },
  {
   "cell_type": "code",
   "execution_count": 29,
   "metadata": {},
   "outputs": [
    {
     "name": "stdout",
     "output_type": "stream",
     "text": [
      "queue deque([1, 2, 3])\n",
      "queue is now a list [1, 2, 3]\n",
      "removed element 1\n",
      "front element 2\n"
     ]
    }
   ],
   "source": [
    "from collections import deque\n",
    "\n",
    "queue = deque()\n",
    "\n",
    "queue.append(1)\n",
    "queue.append(2)\n",
    "queue.append(3)\n",
    "\n",
    "print('queue', queue)\n",
    "print('queue is now a list', list(queue))\n",
    "\n",
    "if queue:\n",
    "    removed_element=queue.popleft()\n",
    "    print('removed element', removed_element)\n",
    "\n",
    "if queue:\n",
    "    print('front element', queue[0])"
   ]
  }
 ],
 "metadata": {
  "kernelspec": {
   "display_name": "Python 3",
   "language": "python",
   "name": "python3"
  },
  "language_info": {
   "codemirror_mode": {
    "name": "ipython",
    "version": 3
   },
   "file_extension": ".py",
   "mimetype": "text/x-python",
   "name": "python",
   "nbconvert_exporter": "python",
   "pygments_lexer": "ipython3",
   "version": "3.11.9"
  }
 },
 "nbformat": 4,
 "nbformat_minor": 2
}
