{
 "cells": [
  {
   "cell_type": "markdown",
   "metadata": {},
   "source": [
    "# 1. Understanding Pseudocode and Flowcharts"
   ]
  },
  {
   "cell_type": "markdown",
   "metadata": {},
   "source": [
    "- Pseudocode is the step by step description of an algorithm which is written in simple English language rather than in a programming language for human understanding.\n",
    "- It is the intermediate between an algorithm and its implementation.\n",
    "\n",
    "- Flowchart is a blueprint that pictorially represents the step by step procedure of an algorithm."
   ]
  },
  {
   "cell_type": "markdown",
   "metadata": {},
   "source": [
    "- How pseudocode helps in algorithm design?\n",
    "- - Since an algorithm is written in simple English language rather than in programming language, it helps the programmer to clearly define how their program is going to work\n",
    "- - This further helps the programmer to easily detect any errors incase the program is not functioning as intended\n",
    "- - The pseudocode also helps the programmer to determine the output from their code."
   ]
  },
  {
   "cell_type": "markdown",
   "metadata": {},
   "source": [
    "- How flowchart helps in algorithm design?\n",
    "- - A flowchart simplifies the logic behind the program since it clears outlines the possible outcomes from all the conditions within the program giving a general overview of the program's functioning\n",
    "- - A flowchart makes communication better especially to stakeholders in a project who may not necessarily how pseudocode or actual code works or how it functions but would rather understand diagramatic representations\n",
    "- - A flowchart having clearly outlined all the steps in the program makes it easier to effectively analyse the program for any issues\n",
    "- - Incase of documentation of the program, the flowchart makes it easier to develop a proper document of the program detailing how it works for its storage"
   ]
  },
  {
   "cell_type": "markdown",
   "metadata": {},
   "source": [
    "- Example of simple algorithm using a pseudocode or algorithm\n"
   ]
  },
  {
   "cell_type": "code",
   "execution_count": 1,
   "metadata": {},
   "outputs": [
    {
     "data": {
      "text/plain": [
       "\"\\n\\nBEGIN \\n\\nINPUT user age as 'age'\\nIF age >= 18:\\n    PRINT 'This is an adult'\\nELSE:\\n    PRINT 'This is a child'\\n\\n\""
      ]
     },
     "execution_count": 1,
     "metadata": {},
     "output_type": "execute_result"
    }
   ],
   "source": [
    "'''\n",
    "\n",
    "BEGIN \n",
    "\n",
    "INPUT user age as 'age'\n",
    "IF age >= 18:\n",
    "    PRINT 'This is an adult'\n",
    "ELSE:\n",
    "    PRINT 'This is a child'\n",
    "\n",
    "'''"
   ]
  },
  {
   "cell_type": "markdown",
   "metadata": {},
   "source": [
    "# 2. Finding the Largest of Three Numbers"
   ]
  },
  {
   "cell_type": "markdown",
   "metadata": {},
   "source": [
    "Pseudocode for a program that accepts three numbers and prints the largest\n",
    "number."
   ]
  },
  {
   "cell_type": "code",
   "execution_count": null,
   "metadata": {},
   "outputs": [],
   "source": [
    "'''\n",
    "\n",
    "BEGIN\n",
    "\n",
    "INPUT number_one\n",
    "INPUT number_two\n",
    "INPUT number_three\n",
    "\n",
    "IF number_three > number_two AND number_three > number_one:\n",
    "    OUTPUT(The largest number is number_three)\n",
    "ELSE-IF number_two > number_three AND number_two > number_one:\n",
    "    OUTPUT(The largest number is number_two)\n",
    "ELSE:\n",
    "    OUTPUT(The largest number is number_one)\n",
    "\n",
    "STOP\n",
    "\n",
    "\n",
    "'''"
   ]
  },
  {
   "cell_type": "markdown",
   "metadata": {},
   "source": [
    "# 3. Printing Even Numbers from 1 to 50"
   ]
  },
  {
   "cell_type": "markdown",
   "metadata": {},
   "source": [
    "Pseudocode for a program that prints all even numbers from 1 to 50"
   ]
  },
  {
   "cell_type": "code",
   "execution_count": null,
   "metadata": {},
   "outputs": [],
   "source": [
    "'''\n",
    "\n",
    "BEGIN\n",
    "\n",
    "FOR every number IN the RANGE (1,51):\n",
    "    IF the (number%2) equals 0:\n",
    "        OUTPUT number\n",
    "    ELSE:\n",
    "        CONTINUE\n",
    "\n",
    "STOP\n",
    "\n",
    "\n",
    "'''"
   ]
  },
  {
   "cell_type": "markdown",
   "metadata": {},
   "source": [
    "# 4. Voting Eligibility Checker"
   ]
  },
  {
   "cell_type": "markdown",
   "metadata": {},
   "source": [
    "Pseudocode for a program that asks a user for their age and prints \"Eligible to\n",
    "vote\" if the age is 18 or above; otherwise, it prints \"Not eligible to vote\".\n"
   ]
  },
  {
   "cell_type": "code",
   "execution_count": null,
   "metadata": {},
   "outputs": [],
   "source": [
    "'''\n",
    "\n",
    "BEGIN\n",
    "\n",
    "INPUT age\n",
    "\n",
    "IF age >= 18:\n",
    "    OUTPUT \"Eligible to vote\"\n",
    "ELSE:\n",
    "    OUTPUT \"Not eligible to vote\"\n",
    "\n",
    "\n",
    "\n",
    "'''"
   ]
  },
  {
   "cell_type": "markdown",
   "metadata": {},
   "source": [
    "# 5. Greatest Common Divisor (GCD) Calculation "
   ]
  },
  {
   "cell_type": "markdown",
   "metadata": {},
   "source": [
    "Pseudocode for a function that takes two numbers as input and returns their\n",
    "Greatest Common Divisor (GCD)"
   ]
  },
  {
   "cell_type": "code",
   "execution_count": null,
   "metadata": {},
   "outputs": [],
   "source": [
    "'''\n",
    "\n",
    "BEGIN\n",
    "\n",
    "define function called GCD with two parameters :\n",
    "\n",
    "\n",
    "\n",
    "\n",
    "\n",
    "'''"
   ]
  },
  {
   "cell_type": "markdown",
   "metadata": {},
   "source": [
    "# 6. Symbols Used in Flowcharts "
   ]
  },
  {
   "cell_type": "markdown",
   "metadata": {},
   "source": [
    "The standard symbols used in flowcharts "
   ]
  },
  {
   "cell_type": "markdown",
   "metadata": {},
   "source": [
    "- start/end\n",
    "- - The standard symbol for the start/end is an oval\n",
    "\n",
    "- process\n",
    "- - The standard symbol for the process is a rectangle\n",
    "\n",
    "- decision\n",
    "- - The standard symbol for the decision process is a kite\n",
    "\n",
    "- input/output\n",
    "- - The standard symbol for the decision process is a parallelogram"
   ]
  },
  {
   "cell_type": "markdown",
   "metadata": {},
   "source": [
    "# 7. Checking If a Number is Positive, Negative, or Zero"
   ]
  },
  {
   "cell_type": "markdown",
   "metadata": {},
   "source": [
    "Pseudocode for an algorithm that determines whether a given number is\n",
    "positive, negative, or zero."
   ]
  },
  {
   "cell_type": "code",
   "execution_count": null,
   "metadata": {},
   "outputs": [],
   "source": [
    "'''\n",
    "BEGIN\n",
    "\n",
    "INPUT number\n",
    "IF number < 0:\n",
    "    OUTPUT 'The number is negative'\n",
    "ELSE-IF NUMBER = 0:\n",
    "    OUTPUT 'The number is zero'\n",
    "ELSE:\n",
    "    OUTPUT 'The number is positive'\n",
    "\n",
    "\n",
    "END \n",
    "\n",
    "\n",
    "'''"
   ]
  },
  {
   "cell_type": "markdown",
   "metadata": {},
   "source": [
    "# 8. Summing All Numbers from 1 to N "
   ]
  },
  {
   "cell_type": "markdown",
   "metadata": {},
   "source": [
    "Pseudocode for a program that calculates the sum of all numbers from 1 to N,\n",
    "where N is entered by the user."
   ]
  },
  {
   "cell_type": "code",
   "execution_count": null,
   "metadata": {},
   "outputs": [],
   "source": [
    "'''\n",
    "\n",
    "\n",
    "INPUT N\n",
    "SET sum = 0\n",
    "SET counter = 1\n",
    "\n",
    "WHILE counter <= N:\n",
    "    SET sum = sum +1\n",
    "    OUTPUT 'The sum is sum'\n",
    "    SET counter = counter +1\n",
    "\n",
    "\n",
    "\n",
    "\n",
    "'''"
   ]
  },
  {
   "cell_type": "markdown",
   "metadata": {},
   "source": [
    "# 9. ATM Transaction Process"
   ]
  },
  {
   "cell_type": "markdown",
   "metadata": {},
   "source": [
    "Pseudocode for an ATM transaction"
   ]
  },
  {
   "cell_type": "code",
   "execution_count": null,
   "metadata": {},
   "outputs": [],
   "source": [
    "'''\n",
    "\n",
    "BEGIN\n",
    "    SET correctPIN = 5097  // Assume the correct PIN\n",
    "    SET attempts = 0\n",
    "    SET maxAttempts = 3\n",
    "    SET verify = FALSE\n",
    "\n",
    "    WHILE attempts < maxAttempts DO\n",
    "        INPUT \"Enter your PIN: \"\n",
    "        \n",
    "        IF userPIN == correctPIN THEN\n",
    "            OUTPUT \"PIN correct. Access granted.\"\n",
    "            SET verify = TRUE\n",
    "            BREAK\n",
    "        ELSE\n",
    "            OUTPUT \"Incorrect PIN. Try again.\"\n",
    "            attempts = attempts + 1\n",
    "        END IF\n",
    "\n",
    "    END WHILE\n",
    "END\n",
    "\n",
    "\n",
    "'''"
   ]
  },
  {
   "cell_type": "markdown",
   "metadata": {},
   "source": [
    "# 10. Factorial Calculation"
   ]
  },
  {
   "cell_type": "markdown",
   "metadata": {},
   "source": [
    "Pseudocode for calculating the factorial of a number entered by the user"
   ]
  },
  {
   "cell_type": "code",
   "execution_count": null,
   "metadata": {},
   "outputs": [],
   "source": [
    "'''\n",
    "\n",
    "INPUT number\n",
    "\n",
    "IF number < 0 THEN\n",
    "  OUTPUT \"Factorial is not defined for negative numbers.\"\n",
    "ELSE\n",
    "  factorial = 1\n",
    "  IF number == 0 THEN\n",
    "    OUTPUT \"The factorial of 0 is 1\"\n",
    "  ELSE\n",
    "    FOR i FROM 1 TO number DO\n",
    "      factorial = factorial * i\n",
    "    END FOR\n",
    "    OUTPUT \"The factorial of \" + number + \" is \" + factorial\n",
    "    END IF\n",
    "END IF\n",
    "END\n",
    "\n",
    "'''"
   ]
  }
 ],
 "metadata": {
  "kernelspec": {
   "display_name": "Python 3",
   "language": "python",
   "name": "python3"
  },
  "language_info": {
   "codemirror_mode": {
    "name": "ipython",
    "version": 3
   },
   "file_extension": ".py",
   "mimetype": "text/x-python",
   "name": "python",
   "nbconvert_exporter": "python",
   "pygments_lexer": "ipython3",
   "version": "3.13.1"
  }
 },
 "nbformat": 4,
 "nbformat_minor": 2
}
